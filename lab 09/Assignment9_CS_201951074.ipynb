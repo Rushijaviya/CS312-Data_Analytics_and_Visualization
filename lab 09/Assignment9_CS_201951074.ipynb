{
 "cells": [
  {
   "cell_type": "code",
   "execution_count": 29,
   "metadata": {},
   "outputs": [],
   "source": [
    "import numpy as np\n",
    "import pandas as pd\n",
    "import matplotlib.pyplot as plt\n",
    "import math"
   ]
  },
  {
   "cell_type": "code",
   "execution_count": 30,
   "metadata": {},
   "outputs": [
    {
     "data": {
      "text/plain": [
       "0    73.847017\n",
       "1    68.781904\n",
       "2    74.110105\n",
       "3    71.730978\n",
       "4    69.881796\n",
       "Name: Height, dtype: float64"
      ]
     },
     "execution_count": 30,
     "metadata": {},
     "output_type": "execute_result"
    }
   ],
   "source": [
    "data = pd.read_csv('weight-height.csv')['Height']\n",
    "data.head()"
   ]
  },
  {
   "cell_type": "code",
   "execution_count": 31,
   "metadata": {},
   "outputs": [
    {
     "data": {
      "text/plain": [
       "0.0384733573955754"
      ]
     },
     "execution_count": 31,
     "metadata": {},
     "output_type": "execute_result"
    },
    {
     "data": {
      "image/png": "[encoded data removed]",
      "text/plain": [
       "<Figure size 432x288 with 1 Axes>"
      ]
     },
     "metadata": {
      "needs_background": "light"
     },
     "output_type": "display_data"
    }
   ],
   "source": [
    "plot = plt.hist(data, bins=200)\n",
    "error_standard = np.std(data)/(np.sqrt(len(data)))\n",
    "error_standard"
   ]
  },
  {
   "cell_type": "code",
   "execution_count": 32,
   "metadata": {},
   "outputs": [
    {
     "data": {
      "text/plain": [
       "0.4117207670725268"
      ]
     },
     "execution_count": 32,
     "metadata": {},
     "output_type": "execute_result"
    },
    {
     "data": {
      "image/png": "[encoded data removed]",
      "text/plain": [
       "<Figure size 432x288 with 1 Axes>"
      ]
     },
     "metadata": {
      "needs_background": "light"
     },
     "output_type": "display_data"
    }
   ],
   "source": [
    "data_sample = np.random.choice(data,100,replace=False)\n",
    "plot=plt.hist(data_sample,bins=10)\n",
    "error_standard = np.std(data_sample)/np.sqrt(len(data_sample))\n",
    "error_standard"
   ]
  },
  {
   "cell_type": "code",
   "execution_count": 33,
   "metadata": {},
   "outputs": [],
   "source": [
    "number_of_samples=10000\n",
    "size_of_sample=100\n",
    "mean_sample=[]\n",
    "for i in range(number_of_samples):\n",
    "    mean_sample.append(np.mean(np.random.choice(data,size_of_sample,replace=False)))"
   ]
  },
  {
   "cell_type": "code",
   "execution_count": 34,
   "metadata": {},
   "outputs": [
    {
     "data": {
      "text/plain": [
       "0.0037994803364085677"
      ]
     },
     "execution_count": 34,
     "metadata": {},
     "output_type": "execute_result"
    },
    {
     "data": {
      "image/png": "[encoded data removed]",
      "text/plain": [
       "<Figure size 432x288 with 1 Axes>"
      ]
     },
     "metadata": {
      "needs_background": "light"
     },
     "output_type": "display_data"
    }
   ],
   "source": [
    "plot=plt.hist(mean_sample,bins=100)\n",
    "error_standard=np.std(mean_sample)/np.sqrt(len(mean_sample))\n",
    "error_standard"
   ]
  },
  {
   "cell_type": "code",
   "execution_count": 35,
   "metadata": {},
   "outputs": [],
   "source": [
    "number_of_samples=10000 # R times\n",
    "size_of_sample=300  # n\n",
    "mean_sample=[]\n",
    "for i in range(number_of_samples):\n",
    "    # Calulate mean for n samples\n",
    "    mean_sample.append(np.mean(np.random.choice(data,size_of_sample,replace=True)))"
   ]
  },
  {
   "cell_type": "code",
   "execution_count": 36,
   "metadata": {},
   "outputs": [
    {
     "data": {
      "text/plain": [
       "0.002234814408250406"
      ]
     },
     "execution_count": 36,
     "metadata": {},
     "output_type": "execute_result"
    },
    {
     "data": {
      "image/png": "[encoded data removed]",
      "text/plain": [
       "<Figure size 432x288 with 1 Axes>"
      ]
     },
     "metadata": {
      "needs_background": "light"
     },
     "output_type": "display_data"
    }
   ],
   "source": [
    "plot=plt.hist(mean_sample,bins=100)\n",
    "error_standard=np.std(mean_sample)/np.sqrt(len(mean_sample))\n",
    "error_standard"
   ]
  },
  {
   "cell_type": "code",
   "execution_count": 37,
   "metadata": {},
   "outputs": [
    {
     "name": "stdout",
     "output_type": "stream",
     "text": [
      "Lower level : 65.94377260200386\n",
      "Upper level : 66.81193649726515\n"
     ]
    }
   ],
   "source": [
    "CI=0.95\n",
    "sorted_means=np.sort(mean_sample)\n",
    "l=len(sorted_means)\n",
    "idx=math.floor(l*((1-CI)/2))\n",
    "\n",
    "print(\"Lower level :\", sorted_means[idx])\n",
    "print(\"Upper level :\", sorted_means[l-idx-1])"
   ]
  },
  {
   "cell_type": "code",
   "execution_count": 38,
   "metadata": {},
   "outputs": [
    {
     "name": "stdout",
     "output_type": "stream",
     "text": [
      "Lower level : 66.00430359261671\n",
      "Upper level : 66.73885965671\n"
     ]
    }
   ],
   "source": [
    "CI=0.9\n",
    "sorted_means=np.sort(mean_sample)\n",
    "length=len(sorted_means)\n",
    "idx=math.floor(length*((1-CI)/2))\n",
    "\n",
    "print(\"Lower level :\", sorted_means[idx])\n",
    "print(\"Upper level :\", sorted_means[length-idx-1])"
   ]
  },
  {
   "cell_type": "code",
   "execution_count": 39,
   "metadata": {},
   "outputs": [
    {
     "name": "stdout",
     "output_type": "stream",
     "text": [
      "Lower level : 66.08599487279628\n",
      "Upper level : 66.65471829537715\n"
     ]
    }
   ],
   "source": [
    "CI=0.8\n",
    "sorted_means=np.sort(mean_sample)\n",
    "length=len(sorted_means)\n",
    "idx=math.floor(length*((1-CI)/2))\n",
    "\n",
    "print(\"Lower level :\", sorted_means[idx])\n",
    "print(\"Upper level :\", sorted_means[length-idx-1])"
   ]
  }
 ],
 "metadata": {
  "interpreter": {
   "hash": "c1bc10f93c2f22aecf9c09d0097ac5cc922e6c575bc2f163dae111cea9772262"
  },
  "kernelspec": {
   "display_name": "Python 3.9.6 64-bit",
   "language": "python",
   "name": "python3"
  },
  "language_info": {
   "codemirror_mode": {
    "name": "ipython",
    "version": 3
   },
   "file_extension": ".py",
   "mimetype": "text/x-python",
   "name": "python",
   "nbconvert_exporter": "python",
   "pygments_lexer": "ipython3",
   "version": "3.9.6"
  },
  "orig_nbformat": 4
 },
 "nbformat": 4,
 "nbformat_minor": 2
}
